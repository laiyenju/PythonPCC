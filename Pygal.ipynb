{
  "nbformat": 4,
  "nbformat_minor": 0,
  "metadata": {
    "colab": {
      "name": "Pygal.ipynb",
      "provenance": [],
      "include_colab_link": true
    },
    "kernelspec": {
      "name": "python3",
      "display_name": "Python 3"
    },
    "accelerator": "GPU"
  },
  "cells": [
    {
      "cell_type": "markdown",
      "metadata": {
        "id": "view-in-github",
        "colab_type": "text"
      },
      "source": [
        "<a href=\"https://colab.research.google.com/github/laiyenju/PythonPCC/blob/master/Pygal.ipynb\" target=\"_parent\"><img src=\"https://colab.research.google.com/assets/colab-badge.svg\" alt=\"Open In Colab\"/></a>"
      ]
    },
    {
      "cell_type": "markdown",
      "metadata": {
        "id": "R7xfX48bbCoF",
        "colab_type": "text"
      },
      "source": [
        "#擲一個骰子"
      ]
    },
    {
      "cell_type": "code",
      "metadata": {
        "id": "pcFpsdtKEDFp",
        "colab_type": "code",
        "colab": {}
      },
      "source": [
        "from random import randint"
      ],
      "execution_count": 0,
      "outputs": []
    },
    {
      "cell_type": "markdown",
      "metadata": {
        "id": "T4JvLwoJGTCo",
        "colab_type": "text"
      },
      "source": [
        "擲骰子"
      ]
    },
    {
      "cell_type": "code",
      "metadata": {
        "id": "2HPeAOJ7EJOK",
        "colab_type": "code",
        "colab": {
          "base_uri": "https://localhost:8080/",
          "height": 54
        },
        "outputId": "2a82ebea-c401-4aa8-81de-c734dd2768d9"
      },
      "source": [
        "class Die():\n",
        "\n",
        "    def __init__(self, num_sides=6):  #創建骰子\n",
        "        self.num_sides = num_sides\n",
        "\n",
        "    def roll(self):\n",
        "        return randint(1, self.num_sides)\n",
        "\n",
        "#擲骰子\n",
        "die = Die()\n",
        "\n",
        "#將投擲的結果存在列表中\n",
        "results = []\n",
        "for roll_num in range(100):\n",
        "    result = die.roll()\n",
        "    results.append(result)\n",
        "\n",
        "print(results)"
      ],
      "execution_count": 4,
      "outputs": [
        {
          "output_type": "stream",
          "text": [
            "[1, 4, 5, 3, 4, 5, 2, 4, 5, 1, 5, 5, 3, 1, 2, 1, 6, 2, 4, 6, 3, 5, 3, 1, 4, 2, 4, 3, 5, 2, 4, 1, 1, 6, 5, 1, 1, 3, 4, 5, 5, 5, 6, 4, 3, 3, 5, 5, 6, 1, 3, 4, 5, 2, 3, 1, 4, 6, 1, 6, 1, 6, 3, 4, 1, 1, 2, 5, 5, 1, 2, 5, 3, 4, 1, 1, 4, 3, 5, 5, 1, 4, 4, 1, 5, 3, 2, 6, 5, 5, 2, 4, 3, 1, 2, 5, 3, 5, 6, 2]\n"
          ],
          "name": "stdout"
        }
      ]
    },
    {
      "cell_type": "markdown",
      "metadata": {
        "id": "_crA61WlGYY0",
        "colab_type": "text"
      },
      "source": [
        "分析骰子結果"
      ]
    },
    {
      "cell_type": "code",
      "metadata": {
        "id": "mYuLmIKUGc68",
        "colab_type": "code",
        "colab": {
          "base_uri": "https://localhost:8080/",
          "height": 34
        },
        "outputId": "6b0409d2-7e53-4585-d314-45c683a2810e"
      },
      "source": [
        "from random import randint\n",
        "\n",
        "class Die():\n",
        "\n",
        "    def __init__(self, num_sides=6):  #創建骰子\n",
        "        self.num_sides = num_sides\n",
        "\n",
        "    def roll(self):\n",
        "        return randint(1, self.num_sides)\n",
        "\n",
        "#擲骰子\n",
        "die = Die()\n",
        "\n",
        "#將投擲的結果存在列表中\n",
        "results = []\n",
        "for roll_num in range(100):\n",
        "    result = die.roll()\n",
        "    results.append(result)\n",
        "\n",
        "#分析結果\n",
        "frequencies = []\n",
        "\n",
        "for value in range(1, die.num_sides+1):\n",
        "    frequency = results.count(value)\n",
        "    frequencies.append(frequency)\n",
        "\n",
        "print(frequencies)"
      ],
      "execution_count": 8,
      "outputs": [
        {
          "output_type": "stream",
          "text": [
            "[14, 19, 20, 17, 16, 14]\n"
          ],
          "name": "stdout"
        }
      ]
    },
    {
      "cell_type": "markdown",
      "metadata": {
        "id": "m3MTLp54XZlD",
        "colab_type": "text"
      },
      "source": [
        "## 將分析結果視覺化"
      ]
    },
    {
      "cell_type": "code",
      "metadata": {
        "id": "GJkNgazAXk8E",
        "colab_type": "code",
        "colab": {
          "base_uri": "https://localhost:8080/",
          "height": 34
        },
        "outputId": "0f46b5c3-b8fc-455f-b310-22bdc7c7c53f"
      },
      "source": [
        "!pip install pygal"
      ],
      "execution_count": 9,
      "outputs": [
        {
          "output_type": "stream",
          "text": [
            "Requirement already satisfied: pygal in /usr/local/lib/python3.6/dist-packages (2.4.0)\n"
          ],
          "name": "stdout"
        }
      ]
    },
    {
      "cell_type": "code",
      "metadata": {
        "id": "VLxm075SXcm2",
        "colab_type": "code",
        "colab": {}
      },
      "source": [
        "from random import randint\n",
        "import pygal\n",
        "\n",
        "class Die():\n",
        "\n",
        "    def __init__(self, num_sides=6):  #創建骰子\n",
        "        self.num_sides = num_sides\n",
        "\n",
        "    def roll(self):\n",
        "        return randint(1, self.num_sides)\n",
        "\n",
        "#擲骰子\n",
        "die = Die()\n",
        "\n",
        "#將投擲的結果存在列表中\n",
        "results = []\n",
        "for roll_num in range(100):\n",
        "    result = die.roll()\n",
        "    results.append(result)\n",
        "\n",
        "#分析結果\n",
        "frequencies = []\n",
        "\n",
        "for value in range(1, die.num_sides+1):\n",
        "    frequency = results.count(value)\n",
        "    frequencies.append(frequency)\n",
        "\n",
        "#將分析結果視覺化\n",
        "hist = pygal.Bar()\n",
        "\n",
        "hist.title = \"Result of rolling one D6 1000 times.\"\n",
        "hist.x_labels = ['1', '2', '3', '4', '5', '6']\n",
        "hist.x_title = \"Result\"\n",
        "hist.y_title = \"Frequency of Result\"\n",
        "\n",
        "hist.add('D6', frequencies)\n",
        "hist.render_to_file('die_visual.svg')"
      ],
      "execution_count": 0,
      "outputs": []
    },
    {
      "cell_type": "markdown",
      "metadata": {
        "id": "LgiZuChWbKYT",
        "colab_type": "text"
      },
      "source": [
        "#擲2個骰子"
      ]
    },
    {
      "cell_type": "code",
      "metadata": {
        "id": "uDMMfyd7bPHi",
        "colab_type": "code",
        "colab": {
          "base_uri": "https://localhost:8080/",
          "height": 34
        },
        "outputId": "ce6aa6fc-7895-4dff-f122-c1a1d4f8b53f"
      },
      "source": [
        "!pip install pygal"
      ],
      "execution_count": 25,
      "outputs": [
        {
          "output_type": "stream",
          "text": [
            "Requirement already satisfied: pygal in /usr/local/lib/python3.6/dist-packages (2.4.0)\n"
          ],
          "name": "stdout"
        }
      ]
    },
    {
      "cell_type": "code",
      "metadata": {
        "id": "exaGqhTPeIc6",
        "colab_type": "code",
        "colab": {
          "base_uri": "https://localhost:8080/",
          "height": 34
        },
        "outputId": "c473f42d-80fd-44bc-dd0b-2408aeff7ccc"
      },
      "source": [
        "!pip install die"
      ],
      "execution_count": 24,
      "outputs": [
        {
          "output_type": "stream",
          "text": [
            "Requirement already satisfied: die in /usr/local/lib/python3.6/dist-packages (0.2.0)\n"
          ],
          "name": "stdout"
        }
      ]
    },
    {
      "cell_type": "code",
      "metadata": {
        "id": "gh2nrRL7ef7c",
        "colab_type": "code",
        "colab": {}
      },
      "source": [
        "import pygal\n",
        "\n",
        "die_1 = Die()  #創建6面的骰子\n",
        "die_2 = Die()  #創建6面的骰子\n",
        "\n",
        "#擲骰子1000次，並將結果儲存到列表內\n",
        "result = []\n",
        "for roll_number in range(1000):\n",
        "    result = die_1.roll() + die_2.roll()\n",
        "    results.append(result)\n",
        "\n",
        "#分析\n",
        "frequencies = []\n",
        "max_result = die_1.num_sides + die_2.num_sides\n",
        "for value in range(2, max_result+1):\n",
        "    frequency = results.count(value)\n",
        "    frequencies.append(frequency)\n",
        "\n",
        "#視覺化\n",
        "hist = pygal.Bar()\n",
        "\n",
        "hist.title = \"Result of rolling 2 D6s at once\"\n",
        "hist.x_labels = ['2', '3', '4', '5', '6', '7', '8', '9', '10', '11', '12']\n",
        "hist.x_title = \"Result\"\n",
        "hist.y_title = \"Frequency of Result\"\n",
        "\n",
        "hist.add('D6 + D6', frequencies)\n",
        "hist.render_to_file('dice_2_D6.svg')"
      ],
      "execution_count": 0,
      "outputs": []
    }
  ]
}